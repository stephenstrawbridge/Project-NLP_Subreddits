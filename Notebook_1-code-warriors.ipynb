{
 "cells": [
  {
   "cell_type": "markdown",
   "metadata": {},
   "source": [
    "## Project 3 - Code Notebook for 'Warriors' Subreddit\n",
    "#### Stephen Strawbridge, Cohort #1019\n",
    "---"
   ]
  },
  {
   "cell_type": "code",
   "execution_count": 1,
   "metadata": {},
   "outputs": [],
   "source": [
    "# Import necessary packages\n",
    "import pandas as pd\n",
    "import matplotlib.pyplot as plt\n",
    "import seaborn as sns\n",
    "import numpy as np\n",
    "\n",
    "from sklearn.feature_extraction.text import CountVectorizer, TfidfVectorizer\n",
    "\n",
    "import requests\n",
    "from bs4 import BeautifulSoup\n",
    "\n",
    "#Import for setting scrape rate\n",
    "from time import sleep\n",
    "from random import randint"
   ]
  },
  {
   "cell_type": "code",
   "execution_count": 2,
   "metadata": {},
   "outputs": [],
   "source": [
    "#Create URL variable for searching by submissions\n",
    "url = 'https://api.pushshift.io/reddit/search/submission'"
   ]
  },
  {
   "cell_type": "code",
   "execution_count": 3,
   "metadata": {},
   "outputs": [],
   "source": [
    "#Create params dictionary for 'warriors' subreddit\n",
    "params = {\n",
    "    'subreddit' : 'warriors',\n",
    "    'size' : 100\n",
    "}"
   ]
  },
  {
   "cell_type": "code",
   "execution_count": 4,
   "metadata": {},
   "outputs": [],
   "source": [
    "#Create response variable using GET function for the URL and reddit parameters\n",
    "res = requests.get(url, params)"
   ]
  },
  {
   "cell_type": "code",
   "execution_count": 5,
   "metadata": {},
   "outputs": [
    {
     "data": {
      "text/plain": [
       "200"
      ]
     },
     "execution_count": 5,
     "metadata": {},
     "output_type": "execute_result"
    }
   ],
   "source": [
    "#Check on status code\n",
    "res.status_code"
   ]
  },
  {
   "cell_type": "code",
   "execution_count": 6,
   "metadata": {},
   "outputs": [],
   "source": [
    "#Create data variable for storing JSON data\n",
    "data = res.json()\n",
    "\n",
    "#Create posts variable to isolate for data\n",
    "posts = data['data']"
   ]
  },
  {
   "cell_type": "code",
   "execution_count": 7,
   "metadata": {},
   "outputs": [],
   "source": [
    "#Create time.sleep function to pull data at appropiate rate\n",
    "#Source code leveraged from fellow classmate, Nolan Arendt\n",
    "\n",
    "#Set range for 49 so that 100 rows are pulled 49 times to add to the original posts variable, for a total dataframe of 5,000 rows\n",
    "for count in range(49): \n",
    "    sleep(2)\n",
    "    \n",
    "    #Create utc so that duplicates are not pulled \n",
    "    utc = posts[-1]['created_utc'] \n",
    "    \n",
    "    params = {\n",
    "    'subreddit' : 'warriors',\n",
    "    'size' : 100,\n",
    "    'before' : utc}\n",
    "    \n",
    "    data = requests.get(url, params)\n",
    "    data = data.json()['data']\n",
    "    posts = posts + data\n",
    "    "
   ]
  },
  {
   "cell_type": "code",
   "execution_count": 8,
   "metadata": {},
   "outputs": [
    {
     "data": {
      "text/plain": [
       "5000"
      ]
     },
     "execution_count": 8,
     "metadata": {},
     "output_type": "execute_result"
    }
   ],
   "source": [
    "#Observe how many posts we obtain from scraping\n",
    "len(posts)"
   ]
  },
  {
   "cell_type": "code",
   "execution_count": 9,
   "metadata": {},
   "outputs": [],
   "source": [
    "#Create dataframe for posts\n",
    "df_warriors = pd.DataFrame(posts)"
   ]
  },
  {
   "cell_type": "code",
   "execution_count": 10,
   "metadata": {},
   "outputs": [],
   "source": [
    "#Isolate dataframe for desired features\n",
    "df_warriors = df_warriors[['subreddit', 'title', 'selftext']]"
   ]
  },
  {
   "cell_type": "markdown",
   "metadata": {},
   "source": [
    "### Feature Engineering\n",
    "*Create a 'whole_post' feature that combines values in 'title' and 'selftext' column.*  Before creating this feature, it was noted that there empty spaces in the in the 'selftext' column that were not treated as null values.  In order to ensure there were no empty spaces, the text in the title and selftext columns were combined.  Because the chronological order of words is not relevant for our modeling, combining these texts made sense for a more concise but accurate dataframe to model off of."
   ]
  },
  {
   "cell_type": "code",
   "execution_count": 11,
   "metadata": {},
   "outputs": [],
   "source": [
    "#Create 'whole_post' column\n",
    "df_warriors['whole_post'] = df_warriors['title'] + df_warriors['selftext']"
   ]
  },
  {
   "cell_type": "code",
   "execution_count": 12,
   "metadata": {},
   "outputs": [
    {
     "data": {
      "text/html": [
       "<div>\n",
       "<style scoped>\n",
       "    .dataframe tbody tr th:only-of-type {\n",
       "        vertical-align: middle;\n",
       "    }\n",
       "\n",
       "    .dataframe tbody tr th {\n",
       "        vertical-align: top;\n",
       "    }\n",
       "\n",
       "    .dataframe thead th {\n",
       "        text-align: right;\n",
       "    }\n",
       "</style>\n",
       "<table border=\"1\" class=\"dataframe\">\n",
       "  <thead>\n",
       "    <tr style=\"text-align: right;\">\n",
       "      <th></th>\n",
       "      <th>subreddit</th>\n",
       "      <th>title</th>\n",
       "      <th>selftext</th>\n",
       "      <th>whole_post</th>\n",
       "    </tr>\n",
       "  </thead>\n",
       "  <tbody>\n",
       "    <tr>\n",
       "      <th>0</th>\n",
       "      <td>warriors</td>\n",
       "      <td>Coming to an Arena near you</td>\n",
       "      <td></td>\n",
       "      <td>Coming to an Arena near you</td>\n",
       "    </tr>\n",
       "    <tr>\n",
       "      <th>1</th>\n",
       "      <td>warriors</td>\n",
       "      <td>Steph Curry NBA Mix~ FLEX (POLO G X JUICE WRLD)</td>\n",
       "      <td></td>\n",
       "      <td>Steph Curry NBA Mix~ FLEX (POLO G X JUICE WRLD)</td>\n",
       "    </tr>\n",
       "    <tr>\n",
       "      <th>2</th>\n",
       "      <td>warriors</td>\n",
       "      <td>Two Warriors players test positive for COVID-1...</td>\n",
       "      <td></td>\n",
       "      <td>Two Warriors players test positive for COVID-1...</td>\n",
       "    </tr>\n",
       "  </tbody>\n",
       "</table>\n",
       "</div>"
      ],
      "text/plain": [
       "  subreddit                                              title selftext  \\\n",
       "0  warriors                        Coming to an Arena near you            \n",
       "1  warriors    Steph Curry NBA Mix~ FLEX (POLO G X JUICE WRLD)            \n",
       "2  warriors  Two Warriors players test positive for COVID-1...            \n",
       "\n",
       "                                          whole_post  \n",
       "0                        Coming to an Arena near you  \n",
       "1    Steph Curry NBA Mix~ FLEX (POLO G X JUICE WRLD)  \n",
       "2  Two Warriors players test positive for COVID-1...  "
      ]
     },
     "execution_count": 12,
     "metadata": {},
     "output_type": "execute_result"
    }
   ],
   "source": [
    "#Check for added feature\n",
    "df_warriors.head(3)"
   ]
  },
  {
   "cell_type": "markdown",
   "metadata": {},
   "source": [
    "### Data Cleaning\n",
    "---"
   ]
  },
  {
   "cell_type": "code",
   "execution_count": 13,
   "metadata": {},
   "outputs": [
    {
     "name": "stdout",
     "output_type": "stream",
     "text": [
      "<class 'pandas.core.frame.DataFrame'>\n",
      "RangeIndex: 5000 entries, 0 to 4999\n",
      "Data columns (total 4 columns):\n",
      " #   Column      Non-Null Count  Dtype \n",
      "---  ------      --------------  ----- \n",
      " 0   subreddit   5000 non-null   object\n",
      " 1   title       5000 non-null   object\n",
      " 2   selftext    4983 non-null   object\n",
      " 3   whole_post  4983 non-null   object\n",
      "dtypes: object(4)\n",
      "memory usage: 156.4+ KB\n"
     ]
    }
   ],
   "source": [
    "#Check for null values and data types - some null values in self-text\n",
    "df_warriors.info()"
   ]
  },
  {
   "cell_type": "code",
   "execution_count": 14,
   "metadata": {},
   "outputs": [],
   "source": [
    "#Considering the fact each text column is unique, drop rows with null values\n",
    "df_warriors = df_warriors.dropna(axis=0, how='any')"
   ]
  },
  {
   "cell_type": "code",
   "execution_count": 15,
   "metadata": {},
   "outputs": [
    {
     "data": {
      "text/plain": [
       "subreddit     0\n",
       "title         0\n",
       "selftext      0\n",
       "whole_post    0\n",
       "dtype: int64"
      ]
     },
     "execution_count": 15,
     "metadata": {},
     "output_type": "execute_result"
    }
   ],
   "source": [
    "#Check that there are no more null values\n",
    "df_warriors.isnull().sum()"
   ]
  },
  {
   "cell_type": "code",
   "execution_count": 16,
   "metadata": {},
   "outputs": [],
   "source": [
    "#Save cleaned csv file separate folder\n",
    "df_warriors.to_csv('./cleaned_dfs/df_warriors_clean.csv', index=False)"
   ]
  },
  {
   "cell_type": "code",
   "execution_count": null,
   "metadata": {},
   "outputs": [],
   "source": [
    "#Read in saved CSV so that dataframe does not change if/when restarting and running Kernel\n",
    "df_warriors = pd.read_csv('./cleaned_dfs/df_warriors_clean.csv', index=False)"
   ]
  },
  {
   "cell_type": "markdown",
   "metadata": {},
   "source": [
    "#### *Warriors dataframe is now clean!*"
   ]
  },
  {
   "cell_type": "markdown",
   "metadata": {},
   "source": [
    "### Further EDA on Warriors Dataframe\n",
    "Because this project involves NLP, it is helpful to look at the most commonly occuring words in the dataframe.  The usage of stopwords in input cells below will be utilized in the modeling notebook of the project."
   ]
  },
  {
   "cell_type": "code",
   "execution_count": 25,
   "metadata": {},
   "outputs": [],
   "source": [
    "#Adding to list of stopwords, as described in further detail below\n",
    "#Source code: https://medium.com/@tusharsri/remove-add-stop-words-7e2994c19c67#id_token=eyJhbGciOiJSUzI1NiIsImtpZCI6IjJlMzAyNWYyNmI1OTVmOTZlYWM5MDdjYzJiOTQ3MTQyMmJjYWViOTMiLCJ0eXAiOiJKV1QifQ.eyJpc3MiOiJodHRwczovL2FjY291bnRzLmdvb2dsZS5jb20iLCJuYmYiOjE2MDY3ODYwMTYsImF1ZCI6IjIxNjI5NjAzNTgzNC1rMWs2cWUwNjBzMnRwMmEyamFtNGxqZGNtczAwc3R0Zy5hcHBzLmdvb2dsZXVzZXJjb250ZW50LmNvbSIsInN1YiI6IjExODAzOTU2ODk0Mjc2MDYwNDEzNCIsImVtYWlsIjoic3RlcGhlbnN0cmF3YnJpZGdlQGdtYWlsLmNvbSIsImVtYWlsX3ZlcmlmaWVkIjp0cnVlLCJhenAiOiIyMTYyOTYwMzU4MzQtazFrNnFlMDYwczJ0cDJhMmphbTRsamRjbXMwMHN0dGcuYXBwcy5nb29nbGV1c2VyY29udGVudC5jb20iLCJuYW1lIjoiU3RlcGhlbiBTdHJhd2JyaWRnZSIsInBpY3R1cmUiOiJodHRwczovL2xoMy5nb29nbGV1c2VyY29udGVudC5jb20vYS0vQU9oMTRHZ041UTZGNk9TRFM3TllUSHdWa0pObTVHQ1FpWkR5THlkMVNHTlA9czk2LWMiLCJnaXZlbl9uYW1lIjoiU3RlcGhlbiIsImZhbWlseV9uYW1lIjoiU3RyYXdicmlkZ2UiLCJpYXQiOjE2MDY3ODYzMTYsImV4cCI6MTYwNjc4OTkxNiwianRpIjoiNTE1ODAwOGRjMTJmYWYzNDVkYTQzYjVjNzdkOWQxMzA1MmEzMjIzYyJ9.Hdn15nX8ADSK9JZBI-y2KgdjVRYZIv3_QIQdco0XA7-t-MEMANDGFpbkffLwlG0CciRwWN5pIgrG2y-9xcdnAQ9gMl0MEBKCLorh4iHWMcCHmLLUnl70yvXrzihlmugq3tKHeOD8JXnjIBsWGcYnoH_FMSwQZ7bAqx_6ldc7Lb_W77dBn1RlIvG2BKaRcu7xkM-bC1-Pru-7OaVw9SMdVqK_TiTeS1kaEgsJAdRWJQKXXHNikBuAnd8dQp9Wp6OC2UAPilHFF79hidc49SQXOdrkstbMDVZOmcQCj8QNe_pF0E47alEK3ClILnF0UUYH5KwyMQC6wey5-ZN_kzmdpA\n",
    "\n",
    "#Import text package from sklearn\n",
    "from sklearn.feature_extraction import text\n",
    "\n",
    "#Create list of new stop words to include in the default English list of stop words\n",
    "new_stop_words = ['www', 'com', 'https', 'reddit', 'think', 'like', 'index', 'wiki', 'just']\n",
    "english_stops = (CountVectorizer(stop_words = 'english').get_stop_words)\n",
    "\n",
    "#Create a final variable of STOP_WORDS to use\n",
    "STOP_WORDS = text.ENGLISH_STOP_WORDS.union(new_stop_words)"
   ]
  },
  {
   "cell_type": "code",
   "execution_count": 26,
   "metadata": {},
   "outputs": [],
   "source": [
    "cvec = CountVectorizer(stop_words = STOP_WORDS)\n",
    "X = df_warriors['whole_post']\n",
    "cvec.fit(X)\n",
    "X_trans = cvec.transform(X)"
   ]
  },
  {
   "cell_type": "code",
   "execution_count": 27,
   "metadata": {},
   "outputs": [
    {
     "data": {
      "image/png": "[encoded data removed]",
      "text/plain": [
       "<Figure size 432x288 with 1 Axes>"
      ]
     },
     "metadata": {
      "needs_background": "light"
     },
     "output_type": "display_data"
    }
   ],
   "source": [
    "X_df = pd.DataFrame(X_trans.toarray(), \n",
    "                           columns=cvec.get_feature_names())\n",
    "\n",
    "#Observe the top 15 occurring words\n",
    "plt.title('Top 15 Most Occurring Words in Warriors Subreddit', size=18)\n",
    "plt.xlabel('Count', size=12)\n",
    "X_df.sum().sort_values(ascending=False).head(15).plot(kind='barh');"
   ]
  }
 ],
 "metadata": {
  "kernelspec": {
   "display_name": "Python 3",
   "language": "python",
   "name": "python3"
  },
  "language_info": {
   "codemirror_mode": {
    "name": "ipython",
    "version": 3
   },
   "file_extension": ".py",
   "mimetype": "text/x-python",
   "name": "python",
   "nbconvert_exporter": "python",
   "pygments_lexer": "ipython3",
   "version": "3.8.3"
  }
 },
 "nbformat": 4,
 "nbformat_minor": 4
}
